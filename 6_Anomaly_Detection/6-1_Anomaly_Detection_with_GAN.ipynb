{
 "cells": [
  {
   "cell_type": "markdown",
   "metadata": {},
   "source": [
    "# 6-1 GAN による異常画像検知のメカニズム\n",
    "\n",
    "## GAN を用いた異常画像検出の必要性\n",
    "異常画像検出は，\n",
    "- 医療画像から疾患と健常の判別を行う\n",
    "- 部品検査で不良品を弾く  \n",
    "など，ルールベースでの処理が難しく，熟練者の経験でおこおな割れていたような業務を補助・代替することができる．  \n",
    "しかし，一般的に異常画像は正常画像に比べて入手可能なデータが少なく，通常の画像分類のフレームワークは適用できない．  \n",
    "そこで，AnoGAN と呼ばれる GAN ベースの手法で異常画像の検出を行う．\n",
    "\n",
    "## AnoGAN の概要\n",
    "AnoGAN の概要を次に示す．\n",
    "\n",
    "<img src=\"../image/p292.jpg\">\n",
    "\n",
    "直感的に思い浮かぶ，「正常画像を生成するように GAN モデルを構築し，その Discriminator を使って異常画像の判別を行う」という方法では異常検出を行うには不十分である．\n",
    "そこで，Generator 後からも使って異常画像の判別を行っている．\n",
    "\n",
    "1. 正常画像を用いて通常の GAN モデルを学習させる  \n",
    "1. 入力画像に最も近い生成ノイズ z を求める\n",
    "1. 生成ノイズを Generator に入力し画像を生成\n",
    "1. 最初に学習したモデルでは異常画像に似た画像は生成できないことを利用して判定"
   ]
  }
 ],
 "metadata": {
  "kernelspec": {
   "display_name": "Python 3",
   "language": "python",
   "name": "python3"
  },
  "language_info": {
   "codemirror_mode": {
    "name": "ipython",
    "version": 3
   },
   "file_extension": ".py",
   "mimetype": "text/x-python",
   "name": "python",
   "nbconvert_exporter": "python",
   "pygments_lexer": "ipython3",
   "version": "3.7.5"
  }
 },
 "nbformat": 4,
 "nbformat_minor": 4
}
