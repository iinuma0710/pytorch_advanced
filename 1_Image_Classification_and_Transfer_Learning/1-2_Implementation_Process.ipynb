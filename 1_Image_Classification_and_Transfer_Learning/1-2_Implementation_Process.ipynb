{
 "cells": [
  {
   "cell_type": "markdown",
   "metadata": {},
   "source": [
    "# 1-2 PyTorch によるディープラーニング実装の流れ\n",
    "ここでは，PyTorch を使ったディープラーニングの実装の流れと，ファインチューニングの手法について述べる．\n",
    "\n",
    "## PyTorch によるディープラーニング実装の流れ\n",
    "実装の流れは大まかに下の図のようになる．\n",
    "\n",
    "<img src=\"../image/IMG_0184.jpg\" alt=\"実装の流れ\" width=50%>\n",
    "\n",
    "2.の Dataset とは，入力するデータとラベルなどをペアにして保持したクラスである．この Dataset を訓練データ，検証データ，テストデータのそれぞれについて作成する．  \n",
    "3.の DataLoader は Dataset からのデータの取り出し方法を記述したクラスである．これを作成することで入力データに対する事前準備は完了．  \n",
    "4.のネットワークの構築では学習済みモデルをロードするか，または自分でゼロからネットワークを作成する．次節では前者のようにモデルを改変してネットワークモデルを作成する．  \n",
    "5.の順伝播関数の定義は次章で詳しく見ていく．  \n",
    "このあと，6.と7.で適切な損失関数と最適化手法を選択したら，8.で学習と検証を行う．大抵の場合 epoch ごとに訓練データと検証データでの性能を確認し，検証データの性能が上がらなくなった時点で学習を打切る．これは，訓練データへの過学習を防ぐ効果があり，early stopping とよばれる．"
   ]
  }
 ],
 "metadata": {
  "kernelspec": {
   "display_name": "Python 3",
   "language": "python",
   "name": "python3"
  },
  "language_info": {
   "codemirror_mode": {
    "name": "ipython",
    "version": 3
   },
   "file_extension": ".py",
   "mimetype": "text/x-python",
   "name": "python",
   "nbconvert_exporter": "python",
   "pygments_lexer": "ipython3",
   "version": "3.6.8"
  }
 },
 "nbformat": 4,
 "nbformat_minor": 2
}
