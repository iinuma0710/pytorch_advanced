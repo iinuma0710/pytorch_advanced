{
 "cells": [
  {
   "cell_type": "markdown",
   "metadata": {},
   "source": [
    "# 1-3 転移学習の実装\n",
    "ここでは次のような流れで PyTorch のチュートリアルに従って画像分類モデルを作成する．\n",
    "1. 画像データから Dataset を作成する\n",
    "1. Dataset から DataLoader を作成\n",
    "1. 任意の出力ができるよう学習済みモデルの出力層を変形\n",
    "1. 出力層の結合パラメータのみを学習させて転移学習を実装  \n",
    "\n",
    "## 転移学習\n",
    "学習済みモデルをベースに最後の出力層を付け替える学習手法を転移学習（transfer learning）と呼ぶ．\n",
    "自前のデータに合わせて付け替えた出力層のみを学習し直す．\n",
    "転移学習では少量のデータで性能の良いディープラーニングを実現しやすい．\n",
    "ちなみに，入力層の近くまでパラメータを更新する場合は fine tuning と呼ばれ，1.5節で扱う．  \n",
    "\n",
    "## フォルダの準備\n",
    "make_folders_and_data_downloads.ipynb を実行する．data/hymenoptera_data だ転移学習に使用するデータ．\n",
    "\n",
    "## 事前準備\n",
    "for ループの経過時間と残り時間を計測する tqdm をインストールしておく．\n",
    "```bash\n",
    "$ pip install tpdm\n",
    "```  "
   ]
  },
  {
   "cell_type": "markdown",
   "metadata": {},
   "source": [
    "## 実装の初期設定\n",
    "パッケージのインポートと乱数のシードを設定する．"
   ]
  },
  {
   "cell_type": "code",
   "execution_count": 2,
   "metadata": {},
   "outputs": [],
   "source": [
    "%matplotlib inline\n",
    "\n",
    "import glob\n",
    "import json\n",
    "import random\n",
    "import numpy as np\n",
    "import os.path as osp\n",
    "from PIL import Image\n",
    "from tqdm import tqdm\n",
    "from matplotlib import pyplot as plt\n",
    "\n",
    "import torch\n",
    "import torchvision\n",
    "import torch.nn as nn\n",
    "import torch.optim as optim\n",
    "import torch.utils.data as data\n",
    "from torchvision import models, transforms\n",
    "\n",
    "torch.manual_seed(1234)\n",
    "np.random.seed(1234)\n",
    "random.seed(1234)"
   ]
  },
  {
   "cell_type": "code",
   "execution_count": 7,
   "metadata": {},
   "outputs": [
    {
     "name": "stdout",
     "output_type": "stream",
     "text": [
      "True\n",
      "False\n",
      "True\n"
     ]
    }
   ],
   "source": [
    "# GPU が使えているかの確認\n",
    "x = torch.randn(10)\n",
    "\n",
    "# GPU へ送る\n",
    "x = x.to(\"cuda\")\n",
    "print(x.is_cuda) # True\n",
    "\n",
    "# CPU に戻す\n",
    "x = x.to('cpu')\n",
    "print(x.is_cuda)  # False\n",
    "\n",
    "# GPU の番号を指定して送る\n",
    "x = x.to(\"cuda:0\")\n",
    "print(x.is_cuda) # True"
   ]
  },
  {
   "cell_type": "code",
   "execution_count": 8,
   "metadata": {},
   "outputs": [],
   "source": [
    "# GPU で計算するときに結果に再現性を持たせるには，次の設定が必要\n",
    "torch.backends.cudnn.deterministic = True\n",
    "torch.backends.cudnn.benchmark = False"
   ]
  },
  {
   "cell_type": "markdown",
   "metadata": {},
   "source": [
    "## Dataset の作成"
   ]
  },
  {
   "cell_type": "code",
   "execution_count": null,
   "metadata": {},
   "outputs": [],
   "source": []
  }
 ],
 "metadata": {
  "kernelspec": {
   "display_name": "Python 3",
   "language": "python",
   "name": "python3"
  },
  "language_info": {
   "codemirror_mode": {
    "name": "ipython",
    "version": 3
   },
   "file_extension": ".py",
   "mimetype": "text/x-python",
   "name": "python",
   "nbconvert_exporter": "python",
   "pygments_lexer": "ipython3",
   "version": "3.6.8"
  }
 },
 "nbformat": 4,
 "nbformat_minor": 2
}
