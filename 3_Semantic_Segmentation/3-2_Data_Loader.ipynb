{
 "cells": [
  {
   "cell_type": "markdown",
   "metadata": {},
   "source": [
    "# 3-2 Dataset と DataLoader の実装\n",
    "\n",
    "## フォルダ準備\n",
    "make_folders_and_data_downloads.ipynb を実行してフォルダの準備をする．  \n",
    "また，これとは別に[このページ](https://drive.google.com/uc?id=12eN6SpnawYuQmD1k9VgVW3QSgPR6hICc&export=download)から pspnet50_ADE20K.pth をダウンロードし，weights フォルダに格納する．\n",
    "\n",
    "## 画像データとアノテーションデータへのファイルパスリストを作成\n",
    "はじめに，画像データとアノテーションデータへのファイルパスを格納したリストを作成する．\n",
    "基本的に前章と同じように作成する．"
   ]
  },
  {
   "cell_type": "code",
   "execution_count": 1,
   "metadata": {},
   "outputs": [],
   "source": [
    "import os\n",
    "from PIL import Image\n",
    "import torch.utils.data as data"
   ]
  },
  {
   "cell_type": "code",
   "execution_count": 2,
   "metadata": {},
   "outputs": [],
   "source": [
    "def make_datapath_list(rootpath):\n",
    "    \"\"\"\n",
    "    学習、検証の画像データとアノテーションデータへのファイルパスリストを作成する。\n",
    "\n",
    "    Parameters\n",
    "    ----------\n",
    "    rootpath : str\n",
    "        データフォルダへのパス\n",
    "    \n",
    "    Returns\n",
    "    -------\n",
    "    ret : train_img_list, train_anno_list, val_img_list, val_anno_list\n",
    "        データへのパスを格納したリスト\n",
    "    \"\"\"\n",
    "    \n",
    "    # 画像ファイルとアノテーションファイルへのパスのテンプレートを作成\n",
    "    img_path_template = os.path.join(rootpath, \"JPEGImages\", \"%s.jpg\")\n",
    "    anno_path_template = os.path.join(rootpath, \"SegmentationClass\", \"%s.png\")\n",
    "    \n",
    "    # 訓練と検証それぞれのファイル名を取得\n",
    "    train_id_names = os.path.join(rootpath, \"ImageSets/Segmentation/train.txt\")\n",
    "    val_id_names = os.path.join(rootpath, \"ImageSets/Segmentation/val.txt\")\n",
    "    \n",
    "    # 訓練データの画像ファイルとアノテーションファイルへのパスリストを作成\n",
    "    train_img_list = list()\n",
    "    train_anno_list = list()\n",
    "    for line in open(train_id_names):\n",
    "        file_id = line.strip()                     # 空白スペースと改行を除去\n",
    "        img_path = (img_path_template % file_id)   #画像のパス\n",
    "        anno_path = (anno_path_template % file_id) # アノテーションのパス\n",
    "        train_img_list.append(img_path)\n",
    "        train_anno_list.append(anno_path)\n",
    "        \n",
    "    # 検証データの画像ファイルとアノテーションファイルへのパスリストを作成\n",
    "    val_img_list = list()\n",
    "    val_anno_list = list()\n",
    "    for line in open(val_id_names):\n",
    "        file_id = line.strip()                     # 空白スペースと改行を除去\n",
    "        img_path = (img_path_template % file_id)   #画像のパス\n",
    "        anno_path = (anno_path_template % file_id) # アノテーションのパス\n",
    "        val_img_list.append(img_path)\n",
    "        val_anno_list.append(anno_path)\n",
    "        \n",
    "    return train_img_list, train_anno_list, val_img_list, val_anno_list"
   ]
  },
  {
   "cell_type": "code",
   "execution_count": 3,
   "metadata": {},
   "outputs": [
    {
     "name": "stdout",
     "output_type": "stream",
     "text": [
      "./data/VOCdevkit/VOC2012/JPEGImages/2007_000032.jpg\n",
      "./data/VOCdevkit/VOC2012/SegmentationClass/2007_000032.png\n"
     ]
    }
   ],
   "source": [
    "# 動作確認\n",
    "rootpath = \"./data/VOCdevkit/VOC2012/\"\n",
    "train_img_list, train_anno_list, val_img_list, val_anno_list = make_datapath_list(rootpath=rootpath)\n",
    "\n",
    "print(train_img_list[0])\n",
    "print(train_anno_list[0])"
   ]
  },
  {
   "cell_type": "markdown",
   "metadata": {},
   "source": [
    "## Dataset の作成\n",
    "./utils/data_augumentation.py から必要なファイルをインポートして DataTransform クラスを作成する．  \n",
    "はじめに，対象の画像とアノテーションデータをセットで変換する必要があるため，その処理を行う Compose クラスを用意する．  \n",
    "次に，訓練データに対してデータオーギュメンテーションを行う．\n",
    "データオーギュメンテーションでは，まず Scale クラスで画像の縮小・拡大する．\n",
    "Scale クラスでは0.5〜1.5倍の中でランダムに画像サイズを変換し，元の画像サイズより小さくなった場合にはもとの大きさになるように黒色で埋め，大きくなった場合には元の大きさと同じとなるように適当な位置を切り抜いてくる．\n",
    "次に，RndomRotation クラスで-10から10度の範囲で回転させる．\n",
    "さらに，RandomMirror で1/2の確率で左右を反転させる．\n",
    "その後 Resize クラスで指定した画像サイズに変換し，最後に Normalize_Tensor クラスで画像を PyTorch のテンソル型に変換し色情報の標準化を行う．  \n",
    "ちなみに，VOC2012 のアノテーションデータでは物体の協会にラベル255（’ambigious’）が設定されているが，ここでは背景クラスとして扱う．\n",
    "また，セマンティックセグメンテーションではアノテーションデータのラベル0が予め背景クラスとなっている．  \n",
    "検証データでは，Resize クラスと Normalize_Tensor クラスによる処理のみを適用する．"
   ]
  },
  {
   "cell_type": "code",
   "execution_count": 4,
   "metadata": {},
   "outputs": [],
   "source": [
    "from utils.data_augumentation import Compose, Scale, RandomRotation, RandomMirror, Resize, Normalize_Tensor\n",
    "\n",
    "# データの処理を行うクラス\n",
    "class DataTransform():\n",
    "    \"\"\"\n",
    "    画像とアノテーションの前処理クラス。訓練時と検証時で異なる動作をする\n",
    "    画像のサイズを input_size x input_size にし，訓練時はデータオーギュメンテーションする。\n",
    "\n",
    "    Attributes\n",
    "    ----------\n",
    "    input_size : int\n",
    "        リサイズ先の画像の大きさ\n",
    "    color_mean : (R, G, B)\n",
    "        各色チャネルの平均値\n",
    "    color_std : (R, G, B)\n",
    "        各色チャネルの標準偏差\n",
    "    \"\"\"\n",
    "    \n",
    "    def __init__(self, input_size, color_mean, color_std):\n",
    "        self.data_transform = {\n",
    "            \"train\": Compose({\n",
    "                Scale(scale=[0.5, 1.5]),                # 画像の拡大・縮小\n",
    "                RandomRotation(angle=[-10, 10]),        # 回転\n",
    "                RandomMirror(),                         # 左右の反転\n",
    "                Resize(input_size),                     # input_size にリサイズ\n",
    "                Normalize_Tensor(color_mean, color_std) # 色情報の標準化・テンソル化\n",
    "            }),\n",
    "            \"val\": Compose({\n",
    "                Resize(input_size),\n",
    "                Normalize_Tensor(color_mean, color_std)\n",
    "            })\n",
    "        }\n",
    "        \n",
    "    def __call__(self, phase, img, anno_class_img):\n",
    "        return self.data_transform[phase](img, anno_class_img)\n",
    "    \n",
    "\n",
    "# Dataset クラス\n",
    "class VOCDataset(data.Dataset):\n",
    "    \"\"\"\n",
    "    VOC2012 の Dataset を作成するクラス，PyTorch の Dataset クラスを継承\n",
    "\n",
    "    Attributes\n",
    "    ----------\n",
    "    img_list : リスト\n",
    "        画像のパスを格納したリスト\n",
    "    anno_list : リスト\n",
    "        アノテーションへのパスを格納したリスト\n",
    "    phase : 'train' or 'test'\n",
    "        学習か訓練かを設定する。\n",
    "    transform : object\n",
    "        前処理クラスのインスタンス\n",
    "    \"\"\"\n",
    "    \n",
    "    def __init__(self, img_list, anno_list, phase, transform):\n",
    "        self.img_list = img_list\n",
    "        self.anno_list = anno_list\n",
    "        self.phase = phase\n",
    "        self.transform = transform\n",
    "        \n",
    "    \n",
    "    def __len__(self):\n",
    "        ''' 画像の枚数を返す '''\n",
    "        return len(self.img_list)\n",
    "    \n",
    "    \n",
    "    def __getitem__(self, index):\n",
    "        ''' 前処理した画像の Tensor 形式のデータとアノテーションを取得 '''\n",
    "        img, anno_class_img = self.pull_item(index)\n",
    "        return img, anno_class_img\n",
    "    \n",
    "    \n",
    "    def pull_item(self, index):\n",
    "        ''' 画像の Tensor 形式のデータ、アノテーションを取得する '''\n",
    "        \n",
    "        # 1. 画像読み込み\n",
    "        image_file_path = self.img_list[index]\n",
    "        img = Image.open(image_file_path)  # [高さ][幅][色 RGB]\n",
    "        \n",
    "        # 2. アノテーション画像の読み込み\n",
    "        anno_file_path = self.anno_list[index]\n",
    "        anno_class_img = Image.open(anno_file_path) # [高さ][幅]\n",
    "        \n",
    "        # 3. 前処理の実施\n",
    "        img, anno_class_img = self.transform(self.phase, img, anno_class_img)\n",
    "        \n",
    "        return img, anno_class_img"
   ]
  },
  {
   "cell_type": "code",
   "execution_count": 5,
   "metadata": {
    "scrolled": false
   },
   "outputs": [
    {
     "name": "stdout",
     "output_type": "stream",
     "text": [
      "torch.Size([3, 475, 475])\n",
      "torch.Size([475, 475])\n",
      "(tensor([[[ 1.6667,  1.5125,  1.5639,  ...,  1.7523,  1.6667,  1.7009],\n",
      "         [ 1.5810,  1.4269,  1.4783,  ...,  1.7009,  1.6153,  1.6495],\n",
      "         [ 1.5639,  1.4098,  1.4440,  ...,  1.6838,  1.5982,  1.6324],\n",
      "         ...,\n",
      "         [-0.4739, -0.4911, -0.5424,  ...,  1.2557,  1.1872,  1.2214],\n",
      "         [-0.5596, -0.4911, -0.4911,  ...,  1.2385,  1.1872,  1.2214],\n",
      "         [-0.6281, -0.3883, -0.3369,  ...,  1.2385,  1.1872,  1.2214]],\n",
      "\n",
      "        [[ 1.8333,  1.6758,  1.7283,  ...,  1.9209,  1.8333,  1.8683],\n",
      "         [ 1.7458,  1.5882,  1.6408,  ...,  1.8683,  1.7808,  1.8158],\n",
      "         [ 1.7283,  1.5707,  1.6057,  ...,  1.8508,  1.7633,  1.7983],\n",
      "         ...,\n",
      "         [-0.5826, -0.6001, -0.6527,  ...,  1.4132,  1.3431,  1.3431],\n",
      "         [-0.6702, -0.6001, -0.6001,  ...,  1.3957,  1.3431,  1.3431],\n",
      "         [-0.7402, -0.4951, -0.4426,  ...,  1.3957,  1.3431,  1.3431]],\n",
      "\n",
      "        [[ 2.0474,  1.8905,  1.9428,  ...,  2.1346,  2.0474,  2.0823],\n",
      "         [ 1.9603,  1.8034,  1.8557,  ...,  2.0823,  1.9951,  2.0300],\n",
      "         [ 1.9428,  1.7860,  1.8208,  ...,  2.0648,  1.9777,  2.0125],\n",
      "         ...,\n",
      "         [-0.6367, -0.6541, -0.7064,  ...,  1.6291,  1.5594,  1.5768],\n",
      "         [-0.7238, -0.6541, -0.6541,  ...,  1.6117,  1.5594,  1.5768],\n",
      "         [-0.7936, -0.5495, -0.4973,  ...,  1.6117,  1.5594,  1.5768]]]), tensor([[0, 0, 0,  ..., 0, 0, 0],\n",
      "        [0, 0, 0,  ..., 0, 0, 0],\n",
      "        [0, 0, 0,  ..., 0, 0, 0],\n",
      "        ...,\n",
      "        [0, 0, 0,  ..., 0, 0, 0],\n",
      "        [0, 0, 0,  ..., 0, 0, 0],\n",
      "        [0, 0, 0,  ..., 0, 0, 0]], dtype=torch.uint8))\n"
     ]
    }
   ],
   "source": [
    "# 動作確認\n",
    "# (RGB) の色の平均値と標準偏差\n",
    "color_mean = (0.485, 0.456, 0.406)\n",
    "color_std = (0.229, 0.224, 0.225)\n",
    "\n",
    "# データセットの作成\n",
    "train_dataset = VOCDataset(train_img_list, train_anno_list, phase=\"train\",\n",
    "                          transform=DataTransform(input_size=475, color_mean=color_mean, color_std=color_std))\n",
    "val_dataset = VOCDataset(val_img_list, val_anno_list, phase=\"val\",\n",
    "                         transform=DataTransform(input_size=475, color_mean=color_mean, color_std=color_std))\n",
    "\n",
    "# データの取り出し\n",
    "print(val_dataset.__getitem__(0)[0].shape)\n",
    "print(val_dataset.__getitem__(0)[1].shape)\n",
    "print(val_dataset.__getitem__(0))"
   ]
  },
  {
   "cell_type": "markdown",
   "metadata": {},
   "source": [
    "## DataLoader の作成\n",
    "最後に DataLoader を作成する．\n",
    "第2章と異なり，アノテーションデータのサイズがデータごとに変化しないため，PyTorch の DataLoader クラスをそのまま使用できる．"
   ]
  },
  {
   "cell_type": "code",
   "execution_count": 7,
   "metadata": {},
   "outputs": [],
   "source": [
    "batch_size = 8\n",
    "\n",
    "train_dataloader = data.DataLoader(train_dataset, batch_size=batch_size, shuffle=True)\n",
    "val_dataloader = data.DataLoader(val_dataset, batch_size=batch_size, shuffle=True)\n",
    "dataloaders_dict = {\"train\": train_dataloader, \"val\": val_dataloader}"
   ]
  },
  {
   "cell_type": "code",
   "execution_count": 8,
   "metadata": {},
   "outputs": [
    {
     "name": "stdout",
     "output_type": "stream",
     "text": [
      "torch.Size([8, 3, 475, 475])\n",
      "torch.Size([8, 475, 475])\n"
     ]
    }
   ],
   "source": [
    "# 動作確認\n",
    "batch_iterator = iter(dataloaders_dict[\"val\"])  # イテレータに変換\n",
    "imges, anno_class_imges = next(batch_iterator)  # 最初の要素を取り出す\n",
    "print(imges.size())\n",
    "print(anno_class_imges.size())"
   ]
  },
  {
   "cell_type": "code",
   "execution_count": 9,
   "metadata": {},
   "outputs": [
    {
     "data": {
      "text/plain": [
       "CompletedProcess(args=['jupyter', 'nbconvert', '--to', 'python', '3-2_Data_Loader.ipynb'], returncode=0)"
      ]
     },
     "execution_count": 9,
     "metadata": {},
     "output_type": "execute_result"
    }
   ],
   "source": [
    "import subprocess\n",
    "subprocess.run(['jupyter', 'nbconvert', '--to', 'python', '3-2_Data_Loader.ipynb'])"
   ]
  }
 ],
 "metadata": {
  "kernelspec": {
   "display_name": "Python 3",
   "language": "python",
   "name": "python3"
  },
  "language_info": {
   "codemirror_mode": {
    "name": "ipython",
    "version": 3
   },
   "file_extension": ".py",
   "mimetype": "text/x-python",
   "name": "python",
   "nbconvert_exporter": "python",
   "pygments_lexer": "ipython3",
   "version": "3.7.3"
  }
 },
 "nbformat": 4,
 "nbformat_minor": 2
}
