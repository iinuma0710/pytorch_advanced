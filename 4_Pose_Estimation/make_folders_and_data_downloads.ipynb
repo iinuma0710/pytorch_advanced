{
 "cells": [
  {
   "cell_type": "code",
   "execution_count": 6,
   "metadata": {},
   "outputs": [],
   "source": [
    "import os\n",
    "import urllib.request\n",
    "import zipfile\n",
    "import tarfile\n",
    "\n",
    "data_dir = \"./data/\"\n",
    "weights_dir = \"./weights/\"\n",
    "\n",
    "# MSCOCOの2014 Val images [41K/6GB]をダウンロード\n",
    "# 6GBのダウンロードと解凍なので時間がかかります（10分弱）\n",
    "url =  \"http://images.cocodataset.org/zips/val2014.zip\"\n",
    "target_path = os.path.join(data_dir, \"val2014.zip\") \n",
    "\n",
    "if not os.path.exists(target_path):\n",
    "    urllib.request.urlretrieve(url, target_path)\n",
    "    \n",
    "zip = zipfile.ZipFile(target_path)\n",
    "zip.extractall(data_dir)  # ZIPを解凍\n",
    "zip.close()  # ZIPファイルをクローズ"
   ]
  },
  {
   "cell_type": "markdown",
   "metadata": {},
   "source": [
    "## tensorboy の GitHub から必要なデータを手動ダウンロード\n",
    "ensorboy さんが COCODataset から使用しやすいように、加工したデータを使用  \n",
    "https://github.com/tensorboy/pytorch_Realtime_Multi-Person_Pose_Estimation\n",
    "\n",
    "画像データのアノテーションデータを整理したファイル COCO.json をダウンロード  \n",
    "フォルダ data に以下のデータを配置  \n",
    "アノテーションデータ COCO.json   \n",
    "https://www.dropbox.com/s/0sj2q24hipiiq5t/COCO.json?dl=0  \n",
    "\n",
    "画像中でアノテーション（人の関節位置の情報）がない人の部分をマスクするデータを用意  \n",
    "フォルダ「data」に以下のデータ mask.tar.gz を配置  \n",
    "マスクデータ mask.tar.gz   \n",
    "https://www.dropbox.com/s/bd9ty7b4fqd5ebf/mask.tar.gz?dl=0  "
   ]
  },
  {
   "cell_type": "code",
   "execution_count": 3,
   "metadata": {},
   "outputs": [],
   "source": [
    "save_path = os.path.join(data_dir, \"mask.tar.gz\") \n",
    "\n",
    "with tarfile.open(save_path, 'r:*') as tar:\n",
    "    tar.extractall(data_dir)"
   ]
  },
  {
   "cell_type": "code",
   "execution_count": null,
   "metadata": {},
   "outputs": [],
   "source": []
  }
 ],
 "metadata": {
  "kernelspec": {
   "display_name": "Python 3",
   "language": "python",
   "name": "python3"
  },
  "language_info": {
   "codemirror_mode": {
    "name": "ipython",
    "version": 3
   },
   "file_extension": ".py",
   "mimetype": "text/x-python",
   "name": "python",
   "nbconvert_exporter": "python",
   "pygments_lexer": "ipython3",
   "version": "3.7.3"
  }
 },
 "nbformat": 4,
 "nbformat_minor": 2
}
