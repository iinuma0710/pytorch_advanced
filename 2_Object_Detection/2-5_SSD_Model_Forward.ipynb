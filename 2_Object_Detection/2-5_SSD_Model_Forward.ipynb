{
 "cells": [
  {
   "cell_type": "markdown",
   "metadata": {},
   "source": [
    "# 2-5 順伝搬関数の実装\n",
    "\n",
    "## 関数 decode を実装\n",
    "ここではあとから実装する Detect クラス内で使用する関数 decode を実装する．\n",
    "decode 関数ではデフォルトボックス$(cx_d, cy_d, w_d, h_d)$とオフセット情報 $loc = (\\Delta cx, \\Delta cy, \\Delta w, \\Delta h)$ からバウンディングボックスの座標情報 $(cx, cy, w, h)$を作成する．"
   ]
  },
  {
   "cell_type": "code",
   "execution_count": null,
   "metadata": {},
   "outputs": [],
   "source": []
  },
  {
   "cell_type": "markdown",
   "metadata": {},
   "source": [
    "## Non-Maximum Supression を行う関数を実装\n",
    "続いて，同じく Detector クラス内で使用する関数 nm_supression を実装する．\n",
    "Non−Muximum Supression は画像中の同じ物体に対してフィッティングした僅かに異なる複数個のバウンディングボックスについて，冗長なバウンディングボックスを削除し1つの物体に対しては1つのバウンディングボックスのみを残す処理である．\n",
    "実装としては，バウンディングボックス同士のかぶっている面積が閾値（ここでは0.45）以上である場合には同じ物体へのバウンディングボックスだとみなし，確信度の最も大きなものを残して他は削除するという操作を行う．\n",
    "\n",
    "次に示すコードにおいて，scores は確信度が一定以上の値（ここでは0.01）となったデフォルトボックスに対する確信度である．\n",
    "そのテンソルサイズは確信度閾値を超えたデフォルトボックスの数と同じになる．"
   ]
  },
  {
   "cell_type": "code",
   "execution_count": null,
   "metadata": {},
   "outputs": [],
   "source": []
  },
  {
   "cell_type": "markdown",
   "metadata": {},
   "source": [
    "## クラス Detect を実装\n",
    "SSD の推論時には Detect クラスを適用して $(batch\\_num, 21, 200, 5)$ のテンソルを出力する．\n",
    "テンソルの先頭はミニバッチの番号，2番目が各クラスのインデックスを示す次元，3番目が信頼度上位200個のうち何番目のバウンディングボックスか，最後がバウンディングボックスの情報 $(conf, x_{min}, y_{min}, x_{max}, y_{max})$ を表している．\n",
    "Detect クラスには次の3つの要素を入力する．\n",
    "- loc モジュールの出力 $(batch\\_num, 8732, 4)$\n",
    "- conf モジュールの出力 $(batch\\_num, 8732, 21)$\n",
    "- デフォルトボックスの情報 $(8732, 4)$\n",
    "\n",
    "このうち，conf モジュールの出力はソフトマックス関数で規格化しておく．\n",
    "実装では torch.autograd.Function クラスを継承している．\n",
    "処理の流れは以下の通り．\n",
    "1. 関数 decode を使ってデフォルトボックスとオフセット情報からバウンディングボックスに変換\n",
    "1. 確信度が閾値以上のバウンディングボックスの取り出し\n",
    "1. nm_supression 関数を適用しかぶっているバウンディングボックスを削除"
   ]
  },
  {
   "cell_type": "code",
   "execution_count": null,
   "metadata": {},
   "outputs": [],
   "source": []
  },
  {
   "cell_type": "markdown",
   "metadata": {},
   "source": [
    "## SSD モデルを実装\n",
    "最後に SSD モデルの順伝播を実装する．\n",
    "先にも述べたとおり，vgg，extras モジュールから source1~6 を取り出し，オフセット情報 loc と確信度 conf を取り出す．\n",
    "最終的な出力として，変数 output にオフセット情報と確信度，デフォルトボックスの情報をまとめる．\n",
    "学習時には，この変数 output が出力となる．\n",
    "推論時には Detect クラスの順伝播関数を使ってバウンディングボックスの情報を出力する．"
   ]
  },
  {
   "cell_type": "code",
   "execution_count": null,
   "metadata": {},
   "outputs": [],
   "source": []
  }
 ],
 "metadata": {
  "kernelspec": {
   "display_name": "Python 3",
   "language": "python",
   "name": "python3"
  },
  "language_info": {
   "codemirror_mode": {
    "name": "ipython",
    "version": 3
   },
   "file_extension": ".py",
   "mimetype": "text/x-python",
   "name": "python",
   "nbconvert_exporter": "python",
   "pygments_lexer": "ipython3",
   "version": "3.6.8"
  }
 },
 "nbformat": 4,
 "nbformat_minor": 2
}
