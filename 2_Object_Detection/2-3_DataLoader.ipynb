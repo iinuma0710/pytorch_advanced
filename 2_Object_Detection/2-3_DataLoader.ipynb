{
 "cells": [
  {
   "cell_type": "markdown",
   "metadata": {},
   "source": [
    "# DataLoader の実装\n",
    "## DataLoader を作成\n",
    "物体検出を行う場合，アノテーションデータの情報や画像内の物体数が画像ごとに異なるため，デフォルトの DataLoader クラスにおいてデフォルトで使用されるデータ取り出し関数 collate_fn を別途作成する必要がある．"
   ]
  },
  {
   "cell_type": "code",
   "execution_count": 4,
   "metadata": {},
   "outputs": [],
   "source": [
    "%matplotlib inline\n",
    "\n",
    "import torch\n",
    "import torch.utils.data as data\n",
    "from utils.dataset import make_VOC_dataset\n",
    "\n",
    "torch.manual_seed(1234)\n",
    "\n",
    "torch.backends.cudnn.deterministic = True\n",
    "torch.backends.cudnn.benchmark = False"
   ]
  },
  {
   "cell_type": "code",
   "execution_count": 5,
   "metadata": {},
   "outputs": [],
   "source": [
    "def od_collate_fn(batch):\n",
    "    \"\"\"\n",
    "    Dataset から取り出すデータのサイズが画像ごとに異なるため collate_fn をカスタマイズ\n",
    "    関数名の od は Object Detection の略\n",
    "    ミニバッチ分の画像が並んだリスト変数 batch にミニバッチ番号を指定する次元を先頭に追加する\n",
    "    \"\"\"\n",
    "    \n",
    "    targets = []\n",
    "    imgs = []\n",
    "    for sample in batch:\n",
    "        imgs.append(sample[0]) # sample[0] は画像\n",
    "        targets.append(torch.FloatTensor(sample[1])) # sample[1] は Grand Truth\n",
    "        \n",
    "    # imgs はミニバッチサイズの3次元テンソルのリスト\n",
    "    # 要素を ([3, 300, 300]) => ([batch_num, 3, 300, 300]) の4次元テンソルに変換\n",
    "    imgs = torch.stack(imgs, dim=0)\n",
    "    \n",
    "    # targets はミニバッチサイズの Grand Truth のリスト\n",
    "    # 画像内の物体数を n として，各要素は [n, 5] の行列\n",
    "    # 5は [xmin, ymin, xmax, ymax, class_index]\n",
    "    \n",
    "    return imgs, targets\n",
    "\n",
    "\n",
    "# データローダーの作成\n",
    "batch_size = 4\n",
    "train_dataset, val_dataset = make_VOC_dataset() # データセットの取得，前節の内容を utils/dataset.py にまとめた\n",
    "train_dataloader = data.DataLoader(train_dataset, batch_size=batch_size, shuffle=True, collate_fn=od_collate_fn)\n",
    "val_dataloader = data.DataLoader(val_dataset, batch_size=batch_size, shuffle=False, collate_fn=od_collate_fn)\n",
    "\n",
    "# 辞書型変数にまとめる\n",
    "dataloaders_dict = {\"train\": train_dataloader, \"val\": val_dataloader}"
   ]
  },
  {
   "cell_type": "code",
   "execution_count": 6,
   "metadata": {},
   "outputs": [
    {
     "name": "stdout",
     "output_type": "stream",
     "text": [
      "torch.Size([4, 3, 300, 300])\n",
      "4\n",
      "torch.Size([2, 5])\n"
     ]
    }
   ],
   "source": [
    "# 動作確認\n",
    "batch_iterator = iter(dataloaders_dict[\"val\"]) # イテレータに変換\n",
    "images, targets = next(batch_iterator)         # 1番目の要素を取り出す\n",
    "print(images.size())\n",
    "print(len(targets))\n",
    "print(targets[1].size())"
   ]
  }
 ],
 "metadata": {
  "kernelspec": {
   "display_name": "Python 3",
   "language": "python",
   "name": "python3"
  },
  "language_info": {
   "codemirror_mode": {
    "name": "ipython",
    "version": 3
   },
   "file_extension": ".py",
   "mimetype": "text/x-python",
   "name": "python",
   "nbconvert_exporter": "python",
   "pygments_lexer": "ipython3",
   "version": "3.7.3"
  }
 },
 "nbformat": 4,
 "nbformat_minor": 2
}
