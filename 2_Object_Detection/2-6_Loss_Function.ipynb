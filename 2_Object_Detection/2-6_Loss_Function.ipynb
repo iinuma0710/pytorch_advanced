{
 "cells": [
  {
   "cell_type": "markdown",
   "metadata": {},
   "source": [
    "# 2-6 損失関数の実装\n",
    "\n",
    "## jaccard 係数を用いた match 関数の動作\n",
    "はじめに，すべてのデフォルトボックスから正解データと物体クラスが一致しており座標情報の近いものを抽出する関数 match を定義する．\n",
    "正解のバウンディングボックスと近いデフォルトボックスの抽出には jaccard 係数を用いる．\n",
    "jaccard 係数は次の図のように計算できる．\n",
    "\n",
    "\n",
    "\n",
    "バウンディングボックスとデフォルトボックスの間の jaccard 係数は，2つのボックスの総面積に対するかぶっている部分の面積で計算できる．\n",
    "2つのボックスが完全にかぶっていれば jaccard 係数は1に，完全に外れている場合には0となる．  \n",
    "この jaccard 係数を用いて訓練データの正解バウンディングボックスとの係数の値が閾値（ここでは jaccard_thresh = 0.5）以上のデフォルトボックスを Positive Default Box とする．\n",
    "\n",
    "\n",
    "\n",
    "実装においては次のように処理を行う．\n",
    "まず，Positive なデフォルトボックスがない場合，何もない部分を背景として認識させるため，背景ラベルである0を与える．  \n",
    "jaccard 係数が閾値以上のデフォルトボックスだある場合，それを Positive として jaccard 係数が最大になる正解バウンディングボックスの物体クラスを教師データの正解クラスとし，Positive なデフォルトボックスから正解のバウンディングボックスに変形させるオフセット値を loc の教師データとする．\n",
    "SSD ではデフォルトボックスの座標情報と検出した物体クラスを別々に扱っている点に注意する必要がある．  \n",
    "match 関数の実装はかなり複雑なため，実装済みの\"./utils/match.py\"を流用する．\n",
    "オフセット情報とラベル情報の正解教師データとして，それぞれ loc_t と conf_t_label を返すようになっている．\n",
    "背景クラスをインデックス0とするため，VOC2012 で用意されている物体クラスのインデックスを+1している．\n",
    "\n",
    "## Hard Negative Mining\n"
   ]
  },
  {
   "cell_type": "code",
   "execution_count": null,
   "metadata": {},
   "outputs": [],
   "source": []
  }
 ],
 "metadata": {
  "kernelspec": {
   "display_name": "Python 3",
   "language": "python",
   "name": "python3"
  },
  "language_info": {
   "codemirror_mode": {
    "name": "ipython",
    "version": 3
   },
   "file_extension": ".py",
   "mimetype": "text/x-python",
   "name": "python",
   "nbconvert_exporter": "python",
   "pygments_lexer": "ipython3",
   "version": "3.6.8"
  }
 },
 "nbformat": 4,
 "nbformat_minor": 2
}
